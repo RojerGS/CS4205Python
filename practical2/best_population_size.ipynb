{
 "cells": [
  {
   "cell_type": "markdown",
   "metadata": {},
   "source": [
    "# Scalability analysis\n",
    "# Best population size for given problem\n",
    "\n",
    "The best population size for a given problem instance is searched for using a binary search approach.\n",
    "A population size is deemed sufficient if a fitness less than the predetermined goal fitness is attained 10 times in a row. If this occurs, search is continued on the first half of the current search space otherwise the latter half is searched."
   ]
  },
  {
   "cell_type": "code",
   "execution_count": 1,
   "metadata": {},
   "outputs": [
    {
     "name": "stdout",
     "output_type": "stream",
     "text": [
      "Using matplotlib backend: Qt5Agg\n"
     ]
    }
   ],
   "source": [
    "%matplotlib\n",
    "import sys\n",
    "sys.path.append('./codebase')"
   ]
  },
  {
   "cell_type": "code",
   "execution_count": 2,
   "metadata": {},
   "outputs": [],
   "source": [
    "from cooperative_evolution_optimizers import GrayBoxOptimizer, BlackBoxOptimizer\n",
    "from differential_evolution import DifferentialEvolution as DE\n",
    "from evolution_strategies import EvolutionStrategies as ES\n",
    "from particle_swarm_optimization import ParticleSwarmOptimization as PSO\n",
    "from particle_swarm_optimization import PSOInteractions\n",
    "from fitness_functions import FunctionFactory as FF\n",
    "\n",
    "import pandas as pd\n",
    "import numpy as np\n",
    "import matplotlib.pyplot as plt\n",
    "from time import time"
   ]
  },
  {
   "cell_type": "code",
   "execution_count": 50,
   "metadata": {},
   "outputs": [],
   "source": [
    "#Searches for the optimal population size as described in the lecture slides using the bisection method\n",
    "def optimal_popsize_search(get_population, pop_size_start, pop_size_max, repetitions):\n",
    "    \n",
    "    pop_size = pop_size_start\n",
    "    evaluations = None\n",
    "    \n",
    "    while(pop_size <= pop_size_max):\n",
    "        \n",
    "        success = True\n",
    "        \n",
    "        for _ in range(repetitions):\n",
    "            \n",
    "            population = get_population(pop_size)\n",
    "            \n",
    "            while(not population.has_converged()):\n",
    "                population.evolve()\n",
    "            \n",
    "            if(not population.get_elite_fitness() <= population._goal_fitness):\n",
    "                pop_size = 2*pop_size\n",
    "                success = False\n",
    "                break\n",
    "        \n",
    "        if(success):\n",
    "            if(pop_size == pop_size_start):\n",
    "                return pop_size, population.get_evaluations()\n",
    "            \n",
    "            return binary_popsize_search(get_population, pop_size/2, pop_size, repetitions)\n",
    "            \n",
    "    \n",
    "    return pop_size_max, float('inf')\n",
    "\n",
    "#Subroutine for optimal_popsize_search\n",
    "def binary_popsize_search(get_population, pop_size_min, pop_size_max, repetitions):\n",
    "    \n",
    "    pop_size = int((pop_size_min + pop_size_max)/2)\n",
    "    evaluations = None\n",
    "    \n",
    "    while(pop_size != pop_size_min):\n",
    "        \n",
    "        for _ in range(repetitions):\n",
    "            \n",
    "            population = get_population(pop_size)\n",
    "            \n",
    "            while(not population.has_converged()):\n",
    "                population.evolve()\n",
    "            \n",
    "            if(not population.get_elite_fitness() <= population._goal_fitness):\n",
    "                pop_size_min = pop_size\n",
    "                break\n",
    "        \n",
    "        if(not pop_size_min == pop_size):\n",
    "            pop_size_max = pop_size\n",
    "            \n",
    "        pop_size = int((pop_size_min + pop_size_max)/2)\n",
    "        evaluations = population.get_evaluations()\n",
    "        \n",
    "    return pop_size, evaluations\n",
    "    "
   ]
  },
  {
   "cell_type": "code",
   "execution_count": 24,
   "metadata": {},
   "outputs": [],
   "source": [
    "#Returns a function which generates new GBO-CC instances \n",
    "def GBO_instances(algorithm, get_function, n_functions, input_size, goal_fitness, max_generations):\n",
    "    \n",
    "    functions = [get_function() for _ in range(n_functions)]\n",
    "    genetic_algorithms = [algorithm for _ in range(n_functions)]\n",
    "    \n",
    "    n_variables = input_size*n_functions\n",
    "    lower_bounds = [-2]*n_variables\n",
    "    upper_bounds = [3]*n_variables\n",
    "    \n",
    "    input_spaces = [list(range(i*input_size, (i+1)*input_size)) for i in range(n_functions)]    \n",
    "    train_partition = input_spaces\n",
    "          \n",
    "    def get_instance(pop_size):\n",
    "        if(algorithm == DE):\n",
    "            genetic_algorithm_arguments = [{'population_size':pop_size}] * n_functions\n",
    "        else:\n",
    "            genetic_algorithm_arguments = [{'population_size':pop_size,\n",
    "                                            'interaction':PSOInteractions.NORMAL}] * n_functions\n",
    "            \n",
    "        return GrayBoxOptimizer(functions = functions,\n",
    "                       input_spaces = input_spaces,\n",
    "                       train_partition = train_partition,\n",
    "                       lower_bounds = lower_bounds, upper_bounds = upper_bounds,\n",
    "                       genetic_algorithms = genetic_algorithms,\n",
    "                       genetic_algorithm_arguments = genetic_algorithm_arguments,\n",
    "                       max_generations = max_generations,\n",
    "                       goal_fitness = goal_fitness)\n",
    "    \n",
    "    return get_instance\n",
    "\n",
    "\n",
    "#Returns a function which generates new BBO (no CC) instances \n",
    "def BBO_instances(algorithm, get_function, n_functions, input_size, goal_fitness, max_generations):\n",
    "        \n",
    "        functions = [get_function() for _ in range(n_functions)]\n",
    "        n_variables = input_size*n_functions\n",
    "        \n",
    "        def target_function(x):\n",
    "            return sum([functions[i](x[i*input_size:(i+1)*input_size]) for i in range(n_functions)])\n",
    "        \n",
    "        \n",
    "        def get_instance(pop_size):\n",
    "            if(algorithm == DE):\n",
    "                return algorithm(fitness_function = target_function,\n",
    "                                population_size = pop_size,\n",
    "                                lower_bounds = -2,\n",
    "                                upper_bounds = 3,\n",
    "                                genome_length = n_variables,\n",
    "                                goal_fitness = goal_fitness,\n",
    "                                max_generations = max_generations)\n",
    "            else:\n",
    "                return algorithm(fitness_function = target_function,\n",
    "                population_size = pop_size,\n",
    "                lower_bounds = -2,\n",
    "                upper_bounds = 3,\n",
    "                genome_length = n_variables,\n",
    "                goal_fitness = goal_fitness,\n",
    "                max_generations = max_generations,\n",
    "                interaction = PSOInteractions.NORMAL)\n",
    "        \n",
    "        return get_instance"
   ]
  },
  {
   "cell_type": "code",
   "execution_count": null,
   "metadata": {},
   "outputs": [
    {
     "name": "stdout",
     "output_type": "stream",
     "text": [
      "GBO,DE,sphere\n"
     ]
    }
   ],
   "source": [
    "#The main simulation loop\n",
    "\n",
    "n_functions_dict = {'sphere': [1,2,4,5,6,7,8,9,10],\n",
    "                    'rosenbrock': [1,2,3,4,5],\n",
    "                    'soreb': [1,2]}\n",
    "\n",
    "goal_fitness_dict = {'sphere': 1e-4,\n",
    "                    'rosenbrock': 1e-3,\n",
    "                    'soreb': 1e-3}\n",
    "\n",
    "input_size_dict = {'sphere': 3,\n",
    "                    'rosenbrock': 2,\n",
    "                    'soreb': 2}\n",
    "\n",
    "max_gen_dict = {'DE': 1000,\n",
    "               'PSO': 1000}\n",
    "\n",
    "algo_dict = {'DE': DE, 'PSO': PSO}\n",
    "func_dict = {'sphere': FF.get_sphere, 'rosenbrock': FF.get_rosenbrock}\n",
    "\n",
    "repetitions = 10\n",
    "results = pd.DataFrame(columns = ['optimizer', 'algorithm', 'function', 'n_functions'\n",
    "                                  ,'population size', 'evaluations'])\n",
    "\n",
    "for optimizer in ['GBO', 'BBO']:\n",
    "    for algorithm in ['DE', 'PSO']:\n",
    "        for function in ['sphere', 'rosenbrock']:\n",
    "            \n",
    "            print(optimizer + ',' + algorithm + ',' + function)\n",
    "            \n",
    "            n_functions = n_functions_dict[function]\n",
    "            goal_fitness = goal_fitness_dict[function]\n",
    "            input_size = input_size_dict[function]\n",
    "            max_generations = max_gen_dict[algorithm]\n",
    "            \n",
    "            for n in n_functions:\n",
    "                \n",
    "                for _ in range(repetitions):\n",
    "                    \n",
    "                    if(optimizer == 'GBO'):\n",
    "                        instance_factory = GBO_instances(algo_dict[algorithm], func_dict[function], \n",
    "                                                         n, input_size, goal_fitness, max_generations)\n",
    "                        max_popsize = 500\n",
    "                    else:\n",
    "                        instance_factory = BBO_instances(algo_dict[algorithm], func_dict[function], \n",
    "                                                         n, input_size, goal_fitness, max_generations)\n",
    "                        max_popsize = n * 500\n",
    "                        \n",
    "                    tmp = optimal_popsize_search(instance_factory, 5, max_popsize, 5)\n",
    "                    \n",
    "                    results = results.append({'optimizer': optimizer, 'algorithm': algorithm,\n",
    "                               'function': function, 'n_functions': n,\n",
    "                                'population size': tmp[0], 'evaluations': tmp[1]}, ignore_index = True)\n",
    "                \n",
    "            results.to_csv('results.csv', index = False)\n",
    "                "
   ]
  },
  {
   "cell_type": "code",
   "execution_count": 59,
   "metadata": {
    "scrolled": true
   },
   "outputs": [
    {
     "data": {
      "text/plain": [
       "(80, 1863)"
      ]
     },
     "execution_count": 59,
     "metadata": {},
     "output_type": "execute_result"
    }
   ],
   "source": [
    "instance_factory = BBO_instances(DE, FF.get_rosenbrock, 1, 2, 1e-3, 500)\n",
    "\n",
    "optimal_popsize_search(instance_factory, 5, 1000, 5)"
   ]
  },
  {
   "cell_type": "code",
   "execution_count": null,
   "metadata": {},
   "outputs": [],
   "source": []
  }
 ],
 "metadata": {
  "kernelspec": {
   "display_name": "Python 3",
   "language": "python",
   "name": "python3"
  },
  "language_info": {
   "codemirror_mode": {
    "name": "ipython",
    "version": 3
   },
   "file_extension": ".py",
   "mimetype": "text/x-python",
   "name": "python",
   "nbconvert_exporter": "python",
   "pygments_lexer": "ipython3",
   "version": "3.7.3"
  }
 },
 "nbformat": 4,
 "nbformat_minor": 2
}
